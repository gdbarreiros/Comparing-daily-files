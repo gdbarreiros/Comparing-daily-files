{
 "cells": [
  {
   "cell_type": "markdown",
   "id": "028fefef",
   "metadata": {},
   "source": [
    "# Tratamento do arquivo do dia"
   ]
  },
  {
   "cell_type": "code",
   "execution_count": null,
   "id": "9f15e7fd",
   "metadata": {},
   "outputs": [],
   "source": [
    "# Here I'm importing the libraries\n",
    "\n",
    "from datetime import date\n",
    "import pandas as pd"
   ]
  },
  {
   "cell_type": "code",
   "execution_count": null,
   "id": "ea282750",
   "metadata": {},
   "outputs": [],
   "source": [
    "# Separating data about year, month and day from the current day (today)\n",
    "\n",
    "date_str = str(date.today())\n",
    "date_str = date_str.replace('-', \"\")\n",
    "year = date_str[0:4]\n",
    "month = date_str[4:6]\n",
    "day = date_str[6:]"
   ]
  },
  {
   "cell_type": "code",
   "execution_count": null,
   "id": "f71c3cd0",
   "metadata": {},
   "outputs": [],
   "source": [
    "# File name with the current date to facilitate analysis\n",
    "\n",
    "file_name = year + '_' + month + '_' + day"
   ]
  },
  {
   "cell_type": "code",
   "execution_count": null,
   "id": "8c30e613",
   "metadata": {},
   "outputs": [],
   "source": [
    "# List with the columns to keep from the original file, imported from the system\n",
    "\n",
    "colunas_manter = ['Assinatura.Inadimplência',\n",
    "                 'Cliente.Nome.1',\n",
    "                 'Cliente.EMail.1',\n",
    "                 'Cliente.Telefones.1',\n",
    "                 'Plano.Nome',\n",
    "                 'MétodoDePagamento.NomePrivado']"
   ]
  },
  {
   "cell_type": "code",
   "execution_count": null,
   "id": "eb81063d",
   "metadata": {},
   "outputs": [],
   "source": [
    "excel_file = input('Digite o nome do arquivo: ')"
   ]
  },
  {
   "cell_type": "code",
   "execution_count": null,
   "id": "4dc6e9c7",
   "metadata": {},
   "outputs": [],
   "source": [
    "# Using read_excel pandas function to read the file considerer only the columns defined in colunas_manter\n",
    "\n",
    "df_inadimp = pd.read_excel(\n",
    "    excel_file + '.xlsx',\n",
    "    usecols = colunas_manter)\n",
    "\n",
    "# Using loc to reorganize the columns and then rename them\n",
    "\n",
    "df_inadimp.loc[:, ['Cliente.Nome.1', \n",
    "                   'Cliente.EMail.1', \n",
    "                   'Cliente.Telefones.1', \n",
    "                   'Assinatura.Inadimplência', \n",
    "                   'Plano.Nome', \n",
    "                   'MétodoDePagamento.NomePrivado']]"
   ]
  },
  {
   "cell_type": "code",
   "execution_count": null,
   "id": "5d7816c1",
   "metadata": {},
   "outputs": [],
   "source": [
    "# Transforming the column nome_cliente into a python list so I can iterate and perform comparisons\n",
    "\n",
    "nomes_clientes = df_inadimp['Cliente.Nome.1'].tolist()"
   ]
  },
  {
   "cell_type": "markdown",
   "id": "7bc8dc92",
   "metadata": {},
   "source": [
    "# Tratamento do arquivo do dia anterior"
   ]
  },
  {
   "cell_type": "code",
   "execution_count": null,
   "id": "82fece2b",
   "metadata": {},
   "outputs": [],
   "source": [
    "# Reading the file from the day before\n",
    "\n",
    "file_day_before = input('')"
   ]
  },
  {
   "cell_type": "code",
   "execution_count": null,
   "id": "e3dbd09b",
   "metadata": {},
   "outputs": [],
   "source": [
    "df_inadimp_ontem = pd.read_excel(\n",
    "    file_day_before + '.xlsx')"
   ]
  },
  {
   "cell_type": "code",
   "execution_count": null,
   "id": "233eaf1f",
   "metadata": {},
   "outputs": [],
   "source": [
    "nomes_clientes_ontem = df_inadimp_ontem['Cliente.Nome.1'].tolist()"
   ]
  },
  {
   "cell_type": "code",
   "execution_count": null,
   "id": "18940b66",
   "metadata": {},
   "outputs": [],
   "source": [
    "clientes_antigos = []\n",
    "\n",
    "for cliente_hj in nomes_clientes:\n",
    "    for cliente_ontem in nomes_clientes_ontem:\n",
    "        if cliente_hj == cliente_ontem:\n",
    "            clientes_antigos.append(cliente_hj)"
   ]
  },
  {
   "cell_type": "code",
   "execution_count": null,
   "id": "e563e894",
   "metadata": {},
   "outputs": [],
   "source": [
    "df_inadimp['status'] = ''\n",
    "df_inadimp['obs'] = ''"
   ]
  },
  {
   "cell_type": "code",
   "execution_count": null,
   "id": "46b8d330",
   "metadata": {},
   "outputs": [],
   "source": [
    "for nome in clientes_antigos:\n",
    "    indice = df_inadimp.loc[df_inadimp['Cliente.Nome.1'] == nome].index[0]\n",
    "    df_inadimp_ontem['status'] = df_inadimp_ontem['status'].astype(str)\n",
    "    df_inadimp.loc[indice, 'status'] = df_inadimp_ontem[df_inadimp_ontem['Cliente.Nome.1'] == nome]['status'].str.cat(sep = '')\n",
    "    df_inadimp_ontem['obs'] = df_inadimp_ontem['obs'].astype(str)\n",
    "    df_inadimp.loc[indice, 'obs'] = df_inadimp_ontem[df_inadimp_ontem['Cliente.Nome.1'] == nome]['obs'].str.cat(sep = '')"
   ]
  },
  {
   "cell_type": "code",
   "execution_count": null,
   "id": "d5cb46ab",
   "metadata": {},
   "outputs": [],
   "source": [
    "df_inadimp.to_excel(file_name + '.xlsx')"
   ]
  }
 ],
 "metadata": {
  "kernelspec": {
   "display_name": "Python 3 (ipykernel)",
   "language": "python",
   "name": "python3"
  },
  "language_info": {
   "codemirror_mode": {
    "name": "ipython",
    "version": 3
   },
   "file_extension": ".py",
   "mimetype": "text/x-python",
   "name": "python",
   "nbconvert_exporter": "python",
   "pygments_lexer": "ipython3",
   "version": "3.11.2"
  }
 },
 "nbformat": 4,
 "nbformat_minor": 5
}
